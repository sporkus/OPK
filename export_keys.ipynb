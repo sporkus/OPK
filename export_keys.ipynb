{
 "cells": [
  {
   "cell_type": "code",
   "execution_count": 3,
   "metadata": {},
   "outputs": [
    {
     "name": "stdout",
     "output_type": "stream",
     "text": [
      "Generating:  row2_U1\n",
      "Generating:  row3_U1\n",
      "Generating:  row4_U1\n",
      "Generating:  row5_U1_convex\n",
      "............. sending ... done\n"
     ]
    }
   ],
   "source": [
    "import cadquery as cq\n",
    "import generate_exports\n",
    "from jupyter_cadquery.viewer.client import show, show_object\n",
    "\n",
    "\"\"\"\n",
    "Simplest OPK Example to generate one key\n",
    "\n",
    "Uncomment the exporters to save the model locally\n",
    "\"\"\"\n",
    "\n",
    "keys = {\n",
    "    0: [\n",
    "    ],\n",
    "    1: [\n",
    "    # { 'unitX': 1 },\n",
    "    ],\n",
    "    2: [\n",
    "    { 'unitX': 1 },\n",
    "    ],\n",
    "    3: [\n",
    "    { 'unitX': 1 },\n",
    "    ],\n",
    "    4: [\n",
    "    { 'unitX': 1 },\n",
    "    ],\n",
    "    5: [\n",
    "    { 'unitX': 1, 'convex':True   },\n",
    "    ]\n",
    "}\n",
    "\n",
    "# About 2mm lower than matt3o's original\n",
    "rows = [\n",
    "    {'angle': 13, 'height': 14,   'keys': keys[0] },      # row 0, function row\n",
    "    {'angle': 9,  'height': 12,   'keys': keys[1] },      # row 1, numbers row\n",
    "    {'angle': 3,  'height': 9.75, 'keys': keys[2] },      # row 2, QWERT\n",
    "    {'angle': -4, 'height': 8.75, 'keys': keys[3] },      # row 3, ASDFG\n",
    "    {'angle': -6, 'height': 10.5, 'keys': keys[4] },      # row 4, ZXCVB\n",
    "    {'angle': -6,  'height': 10.5, 'keys': keys[5] },      # row 5, bottom row\n",
    "]\n",
    "\n",
    "assy = generate_exports.export_keys(rows)\n",
    "\n",
    "if 'show_object' in locals():\n",
    "    show_object(assy)\n",
    "\n",
    "#exporters.export(cap, 'keycap.stl', tolerance=0.001, angularTolerance=0.05)\n",
    "#exporters.export(cap, 'keycap.step')"
   ]
  }
 ],
 "metadata": {
  "kernelspec": {
   "display_name": "base",
   "language": "python",
   "name": "python3"
  },
  "language_info": {
   "codemirror_mode": {
    "name": "ipython",
    "version": 3
   },
   "file_extension": ".py",
   "mimetype": "text/x-python",
   "name": "python",
   "nbconvert_exporter": "python",
   "pygments_lexer": "ipython3",
   "version": "3.10.11"
  },
  "orig_nbformat": 4
 },
 "nbformat": 4,
 "nbformat_minor": 2
}
